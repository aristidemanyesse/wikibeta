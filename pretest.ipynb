{
 "cells": [
  {
   "cell_type": "code",
   "execution_count": 8,
   "metadata": {},
   "outputs": [
    {
     "name": "stdout",
     "output_type": "stream",
     "text": [
      "0 ====> 0.0426\n",
      "1 ====> 0.1326\n",
      "2 ====> 0.2082\n",
      "3 ====> 0.2197\n",
      "4 ====> 0.1755\n",
      "5 ====> 0.1131\n",
      "6 ====> 0.0613\n",
      "7 ====> 0.0287\n",
      "8 ====> 0.0118\n",
      "9 ====> 0.0044\n",
      "10 ====> 0.0015\n"
     ]
    }
   ],
   "source": [
    "import math\n",
    "def bimodal_poisson(lambda_1, lambda_2, k):\n",
    "    prob = (math.exp(-lambda_1)*(lambda_1**k)/math.factorial(k) + math.exp(-lambda_2)*(lambda_2**k)/math.factorial(k)) / 2\n",
    "    return round(prob, 4)\n",
    "\n",
    "for x in [0, 1, 2, 3, 4, 5, 6, 7, 8, 9, 10]:\n",
    "    mar = 3.5\n",
    "    enc = 2.9\n",
    "    proba = bimodal_poisson(mar, enc, x)\n",
    "    print(x, \"====>\", proba)\n",
    "    # res = 1 / (1 + 10 ** ((mar - enc) / 4))"
   ]
  },
  {
   "cell_type": "code",
   "execution_count": 79,
   "metadata": {},
   "outputs": [
    {
     "name": "stdout",
     "output_type": "stream",
     "text": [
      "Équipe A (1) 1 ====== 0 ============ 0.6839500000000001\n",
      "----------------------------------------------------------------\n",
      "Équipe A (2) 0.6839500000000001 ====== 0 ============ 0.45140700000000006\n",
      "----------------------------------------------------------------\n",
      "Équipe A (2) 0.45140700000000006 ====== 0 ============ 0.312825051\n",
      "----------------------------------------------------------------\n",
      "Équipe A (2) 0.312825051 ====== 1 ============ 0.43018136888265\n",
      "----------------------------------------------------------------\n",
      "Équipe A (2) 0.43018136888265 ====== 1 ============ 0.5860790969657224\n",
      "----------------------------------------------------------------\n",
      "Équipe A (2) 0.5860790969657224 ====== 1 ============ 0.7916756441812978\n",
      "----------------------------------------------------------------\n",
      "Équipe A (2) 0.7916756441812978 ====== 1 ============ 1.0629433036600195\n",
      "----------------------------------------------------------------\n",
      "Équipe A (2) 1.0629433036600195 ====== 1 ============ 0.7009579615985999\n",
      "----------------------------------------------------------------\n",
      "Équipe A (2) 0.7009579615985999 ====== 1 ============ 0.9430688415347563\n",
      "----------------------------------------------------------------\n",
      "Équipe A (2) 0.9430688415347563 ====== 1 ============ 1.264183782077341\n",
      "----------------------------------------------------------------\n"
     ]
    }
   ],
   "source": [
    "import math\n",
    "import random\n",
    "\n",
    "# Fonction de Poisson bimodal pour calculer les probabilités de buts\n",
    "def bimodal_poisson(lambda_1, lambda_2):\n",
    "    tab = {}\n",
    "    for k in range(10):\n",
    "        tab[k] = round((math.exp(-lambda_1)*(lambda_1**k)/math.factorial(k) + math.exp(-lambda_2)*(lambda_2**k)/math.factorial(k)) / 2, 4)\n",
    "    return tab\n",
    "\n",
    "# Fonction pour mettre à jour les cotes Elo après un match\n",
    "def update_elo(probabilite, expected_goals, real_goal):\n",
    "    proba = 1 - expected_goals.get(real_goal, 0)\n",
    "    # Calcul des probabilités de victoire pour chaque équipe en utilisant les cotes Elo   \n",
    "    if probabilite - 0.1 <= real_goal <= probabilite + 0.1:\n",
    "        return probabilite + (( proba * probabilite / 2) if probabilite < real_goal else  (-proba * probabilite / 2))\n",
    "    elif real_goal > probabilite + 0.1 :\n",
    "        return probabilite + ( proba * probabilite / 2)\n",
    "    elif real_goal < probabilite + 0.1:\n",
    "        return probabilite - ( proba * probabilite / 2)\n",
    "\n",
    "    # Mise à jour des cotes Elo en fonction du résultat réel\n",
    "\n",
    "# Initialisation des cotes Elo pour deux équipes à 1\n",
    "mar_elo = 1\n",
    "enc_elo = 1\n",
    "\n",
    "# Boucle pour simuler plusieurs matches\n",
    "for i in range(10):\n",
    "    # Simulation des probabilités de buts attendus\n",
    "    expected_goals = bimodal_poisson(enc_elo, mar_elo)\n",
    "\n",
    "    # Simulation du score réel du match\n",
    "    real_goal = 0 if i < 3 else 1\n",
    "    # real_goal = random.randint(0, 4)\n",
    "    \n",
    "    new = update_elo(enc_elo, expected_goals, real_goal)\n",
    "\n",
    "    results = {}\n",
    "    for home, p in expected_goals.items():\n",
    "        for away, j in expected_goals.items():\n",
    "            results[f\"{home}-{away}\"] = p *j\n",
    "            \n",
    "    print(f\"Équipe A ({mar_elo}) {enc_elo}\" , \"======\", real_goal, \"============\", new)\n",
    "    print(\"----------------------------------------------------------------\")\n",
    "    enc_elo = new\n",
    "    mar_elo = 2\n",
    "    # mar_elo = random.uniform(1, 4)"
   ]
  },
  {
   "cell_type": "code",
   "execution_count": 7,
   "metadata": {},
   "outputs": [
    {
     "name": "stdout",
     "output_type": "stream",
     "text": [
      "{\"2\": 210, \"khik\": 56, \"lo\": 36}\n",
      "-9\n"
     ]
    }
   ],
   "source": [
    "import json\n",
    "\n",
    "test = {\"2\":210, \"khik\":56, \"lo\":36}\n",
    "mar = json.dumps(test)\n",
    "print(mar)\n",
    "print(json.loads(mar).get(2, -9))"
   ]
  }
 ],
 "metadata": {
  "kernelspec": {
   "display_name": "Python 3",
   "language": "python",
   "name": "python3"
  },
  "language_info": {
   "codemirror_mode": {
    "name": "ipython",
    "version": 3
   },
   "file_extension": ".py",
   "mimetype": "text/x-python",
   "name": "python",
   "nbconvert_exporter": "python",
   "pygments_lexer": "ipython3",
   "version": "3.10.12"
  },
  "orig_nbformat": 4
 },
 "nbformat": 4,
 "nbformat_minor": 2
}
