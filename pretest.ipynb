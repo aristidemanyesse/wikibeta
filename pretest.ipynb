{
 "cells": [
  {
   "cell_type": "code",
   "execution_count": 8,
   "metadata": {},
   "outputs": [
    {
     "name": "stdout",
     "output_type": "stream",
     "text": [
      "0 ====> 0.0426\n",
      "1 ====> 0.1326\n",
      "2 ====> 0.2082\n",
      "3 ====> 0.2197\n",
      "4 ====> 0.1755\n",
      "5 ====> 0.1131\n",
      "6 ====> 0.0613\n",
      "7 ====> 0.0287\n",
      "8 ====> 0.0118\n",
      "9 ====> 0.0044\n",
      "10 ====> 0.0015\n"
     ]
    }
   ],
   "source": [
    "import math\n",
    "def bimodal_poisson(lambda_1, lambda_2, k):\n",
    "    prob = (math.exp(-lambda_1)*(lambda_1**k)/math.factorial(k) + math.exp(-lambda_2)*(lambda_2**k)/math.factorial(k)) / 2\n",
    "    return round(prob, 4)\n",
    "\n",
    "for x in [0, 1, 2, 3, 4, 5, 6, 7, 8, 9, 10]:\n",
    "    mar = 3.5\n",
    "    enc = 2.9\n",
    "    proba = bimodal_poisson(mar, enc, x)\n",
    "    print(x, \"====>\", proba)\n",
    "    # res = 1 / (1 + 10 ** ((mar - enc) / 4))"
   ]
  },
  {
   "cell_type": "code",
   "execution_count": 39,
   "metadata": {},
   "outputs": [
    {
     "name": "stdout",
     "output_type": "stream",
     "text": [
      "Équipe A (1) 1\n",
      "{0: 0.3679, 1: 0.3679, 2: 0.1839, 3: 0.0613, 4: 0.0153, 5: 0.0031, 6: 0.0005, 7: 0.0001, 8: 0.0, 9: 0.0} ============ 2\n",
      "[('0-0', 0.13535041), ('0-1', 0.13535041), ('1-0', 0.13535041), ('1-1', 0.13535041), ('0-2', 0.06765681)]\n",
      "1.40805\n",
      "----------------------------------------------------------------\n",
      "Équipe A (1.4999997756109502) 1.40805\n",
      "{0: 0.2339, 1: 0.3396, 2: 0.2468, 3: 0.1197, 4: 0.0436, 5: 0.0127, 6: 0.0031, 7: 0.0006, 8: 0.0001, 9: 0.0} ============ 3\n",
      "[('1-1', 0.11532816000000001), ('1-2', 0.08381328), ('2-1', 0.08381328), ('0-1', 0.07943244), ('1-0', 0.07943244)]\n",
      "2.0278032075\n",
      "----------------------------------------------------------------\n",
      "Équipe A (3.036893316553091) 2.0278032075\n",
      "{0: 0.0898, 1: 0.2063, 2: 0.2459, 3: 0.2035, 4: 0.1314, 5: 0.0704, 6: 0.0325, 7: 0.0132, 8: 0.0048, 9: 0.0016} ============ 4\n",
      "[('2-2', 0.06046681), ('1-2', 0.050729170000000004), ('2-1', 0.050729170000000004), ('2-3', 0.05004065), ('3-2', 0.05004065)]\n",
      "2.90847814051725\n",
      "----------------------------------------------------------------\n",
      "Équipe A (1.8290438157902733) 2.90847814051725\n",
      "{0: 0.1076, 1: 0.2262, 2: 0.2497, 3: 0.1937, 4: 0.1188, 5: 0.061, 6: 0.0271, 7: 0.0106, 8: 0.0037, 9: 0.0012} ============ 2\n",
      "[('2-2', 0.062350090000000004), ('1-2', 0.05648214000000001), ('2-1', 0.05648214000000001), ('1-1', 0.05116644000000001), ('2-3', 0.04836689)]\n",
      "1.8173625661022037\n",
      "----------------------------------------------------------------\n",
      "Équipe A (1.0958744246310257) 1.8173625661022037\n",
      "{0: 0.2484, 1: 0.3308, 2: 0.2345, 3: 0.1179, 4: 0.047, 5: 0.0156, 6: 0.0045, 7: 0.0011, 8: 0.0002, 9: 0.0} ============ 1\n",
      "[('1-1', 0.10942864), ('0-1', 0.08217072), ('1-0', 0.08217072), ('1-2', 0.07757259999999999), ('2-1', 0.07757259999999999)]\n",
      "1.2092730514844063\n",
      "----------------------------------------------------------------\n",
      "Équipe A (2.22875463236419) 1.2092730514844063\n",
      "{0: 0.203, 1: 0.3004, 2: 0.2428, 3: 0.1433, 4: 0.0686, 5: 0.0279, 6: 0.0098, 7: 0.003, 8: 0.0008, 9: 0.0002} ============ 0\n",
      "[('1-1', 0.09024016), ('1-2', 0.07293712), ('2-1', 0.07293712), ('0-1', 0.060981200000000006), ('1-0', 0.060981200000000006)]\n",
      "0.7273777404678705\n",
      "----------------------------------------------------------------\n",
      "Équipe A (3.5736320038613227) 0.7273777404678705\n",
      "{0: 0.2556, 1: 0.2259, 2: 0.1535, 3: 0.1222, 4: 0.0981, 5: 0.0685, 6: 0.0406, 7: 0.0207, 8: 0.0093, 9: 0.0037} ============ 0\n",
      "[('0-0', 0.06533135999999999), ('0-1', 0.05774004), ('1-0', 0.05774004), ('1-1', 0.051030809999999996), ('0-2', 0.0392346)]\n",
      "0.4566477454657291\n",
      "----------------------------------------------------------------\n"
     ]
    }
   ],
   "source": [
    "import math\n",
    "import random\n",
    "\n",
    "# Fonction de Poisson bimodal pour calculer les probabilités de buts\n",
    "def bimodal_poisson(lambda_1, lambda_2):\n",
    "    tab = {}\n",
    "    for k in range(10):\n",
    "        tab[k] = round((math.exp(-lambda_1)*(lambda_1**k)/math.factorial(k) + math.exp(-lambda_2)*(lambda_2**k)/math.factorial(k)) / 2, 4)\n",
    "    return tab\n",
    "\n",
    "# Fonction pour mettre à jour les cotes Elo après un match\n",
    "def update_elo(probabilite, expected_goals, real_goal):\n",
    "    proba = 1 - expected_goals.get(real_goal, 0)\n",
    "    # Calcul des probabilités de victoire pour chaque équipe en utilisant les cotes Elo   \n",
    "    if probabilite - 0.1 <= real_goal <= probabilite + 0.1:\n",
    "        return probabilite + (( proba * probabilite / 2) if probabilite < real_goal else  (-proba * probabilite / 2))\n",
    "    elif real_goal > probabilite + 0.1 :\n",
    "        return probabilite + ( proba * probabilite / 2)\n",
    "    elif real_goal < probabilite + 0.1:\n",
    "        return probabilite - ( proba * probabilite / 2)\n",
    "\n",
    "    # Mise à jour des cotes Elo en fonction du résultat réel\n",
    "\n",
    "# Initialisation des cotes Elo pour deux équipes à 1\n",
    "mar_elo = 1\n",
    "enc_elo = 1\n",
    "\n",
    "# Boucle pour simuler plusieurs matches\n",
    "for _ in range(10):\n",
    "    # Simulation des probabilités de buts attendus\n",
    "    expected_goals = bimodal_poisson(enc_elo, mar_elo)\n",
    "\n",
    "    # Simulation du score réel du match\n",
    "    # real_goal = 3\n",
    "    real_goal = random.randint(0, 4)\n",
    "    \n",
    "    new = update_elo(enc_elo, expected_goals, real_goal)\n",
    "\n",
    "    print(f\"Équipe A ({mar_elo}) {enc_elo}\" , \"============\", real_goal)\n",
    "    results = {}\n",
    "    for home, p in expected_goals.items():\n",
    "        for away, j in expected_goals.items():\n",
    "            results[f\"{home}-{away}\"] = p *j\n",
    "            \n",
    "    print(new)\n",
    "    print(\"----------------------------------------------------------------\")\n",
    "    enc_elo = new\n",
    "    # mar_elo = 2\n",
    "    mar_elo = random.uniform(1, 4)"
   ]
  },
  {
   "cell_type": "code",
   "execution_count": 7,
   "metadata": {},
   "outputs": [
    {
     "name": "stdout",
     "output_type": "stream",
     "text": [
      "{\"2\": 210, \"khik\": 56, \"lo\": 36}\n",
      "-9\n"
     ]
    }
   ],
   "source": [
    "import json\n",
    "\n",
    "test = {\"2\":210, \"khik\":56, \"lo\":36}\n",
    "mar = json.dumps(test)\n",
    "print(mar)\n",
    "print(json.loads(mar).get(2, -9))"
   ]
  }
 ],
 "metadata": {
  "kernelspec": {
   "display_name": "Python 3",
   "language": "python",
   "name": "python3"
  },
  "language_info": {
   "codemirror_mode": {
    "name": "ipython",
    "version": 3
   },
   "file_extension": ".py",
   "mimetype": "text/x-python",
   "name": "python",
   "nbconvert_exporter": "python",
   "pygments_lexer": "ipython3",
   "version": "3.10.12"
  },
  "orig_nbformat": 4
 },
 "nbformat": 4,
 "nbformat_minor": 2
}
